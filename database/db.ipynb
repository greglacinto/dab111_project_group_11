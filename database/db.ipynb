{
 "cells": [
  {
   "cell_type": "code",
   "execution_count": 2,
   "metadata": {},
   "outputs": [],
   "source": [
    "import pandas as pd"
   ]
  },
  {
   "cell_type": "code",
   "execution_count": 5,
   "metadata": {},
   "outputs": [
    {
     "name": "stdout",
     "output_type": "stream",
     "text": [
      "Index(['row_number', 'invoice_id', 'branch', 'customer_id', 'gender', 'age',\n",
      "       'customer_type', 'credit_score', 'product_category',\n",
      "       'number_of_products', 'tax_amount', 'price', 'total_amount', 'ratings',\n",
      "       'customer_churn'],\n",
      "      dtype='object')\n"
     ]
    }
   ],
   "source": [
    "import sqlite3\n",
    "\n",
    "con = sqlite3.connect(\"customers.db\")\n",
    "cur = con.cursor()\n",
    "\n",
    "# customer_data.to_sql(\"customer_data\",con,index=False)\n",
    "\n",
    "# rows = cur.execute(\"SELECT * FROM customer_data\").fetchall()\n",
    "# rows\n",
    "\n",
    "rows = pd.read_sql_query(\"SELECT * FROM customer_data limit 20\",con)\n",
    "print(rows.columns)\n",
    "\n",
    "con.commit()\n",
    "con.close()"
   ]
  },
  {
   "cell_type": "code",
   "execution_count": null,
   "metadata": {},
   "outputs": [],
   "source": []
  }
 ],
 "metadata": {
  "kernelspec": {
   "display_name": ".venv",
   "language": "python",
   "name": "python3"
  },
  "language_info": {
   "codemirror_mode": {
    "name": "ipython",
    "version": 3
   },
   "file_extension": ".py",
   "mimetype": "text/x-python",
   "name": "python",
   "nbconvert_exporter": "python",
   "pygments_lexer": "ipython3",
   "version": "3.11.5"
  }
 },
 "nbformat": 4,
 "nbformat_minor": 2
}
